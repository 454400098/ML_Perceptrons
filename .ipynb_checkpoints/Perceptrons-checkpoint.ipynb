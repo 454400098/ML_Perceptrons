{
 "cells": [
  {
   "cell_type": "code",
   "execution_count": 1,
   "metadata": {},
   "outputs": [],
   "source": [
    "import numpy as` np"
   ]
  },
  {
   "cell_type": "code",
   "execution_count": 68,
   "metadata": {},
   "outputs": [],
   "source": [
    "training_inputs = []\n",
    "training_inputs.append(np.array([1, 1]))\n",
    "training_inputs.append(np.array([1, 0]))\n",
    "training_inputs.append(np.array([0, 1]))\n",
    "training_inputs.append(np.array([0, 0]))\n",
    "labels = np.array([1, 0, 0, 0])"
   ]
  },
  {
   "cell_type": "code",
   "execution_count": 138,
   "metadata": {},
   "outputs": [],
   "source": [
    "class Perceptron:\n",
    "    def __init__(self,num_of_input,num_iter,learning_rate):\n",
    "        self.num_iter = num_iter\n",
    "        self.learning_rate = learning_rate\n",
    "        self.weights = np.zeros(num_of_input+1)\n",
    "        self.counts = 0 \n",
    "    \n",
    "    def predict(self,inputarr):\n",
    "        summation = np.dot(inputarr,self.weights[1:]) + self.weights[0]\n",
    "        if summation > 0:\n",
    "            return 1\n",
    "        else:\n",
    "            return 0\n",
    "    def check(self,arr_inputs,labels):\n",
    "        ans = True\n",
    "        for arr,tag in zip(arr_inputs,labels):\n",
    "            yesorno = self.predict(arr)\n",
    "            if yesorno != tag:\n",
    "                ans = False \n",
    "                break\n",
    "        return ans\n",
    "    def train(self,arr_inputs,labels):\n",
    "        for _ in range(self.num_iter):\n",
    "            ##############\n",
    "            self.counts+=1\n",
    "            if self.check(arr_inputs,labels) == True:\n",
    "                print(self.counts)\n",
    "            ##############\n",
    "            for arr,tag in zip(arr_inputs,labels):\n",
    "                prediction = self.predict(arr)\n",
    "                self.weights[1:] += self.learning_rate *(tag - prediction)*arr\n",
    "                self.weights[0] +=self.learning_rate * (tag - prediction)\n",
    "                "
   ]
  },
  {
   "cell_type": "code",
   "execution_count": 139,
   "metadata": {},
   "outputs": [],
   "source": [
    "P = Perceptron(2,10,0.01)\n"
   ]
  },
  {
   "cell_type": "code",
   "execution_count": 140,
   "metadata": {},
   "outputs": [
    {
     "name": "stdout",
     "output_type": "stream",
     "text": [
      "6\n",
      "7\n",
      "8\n",
      "9\n",
      "10\n"
     ]
    }
   ],
   "source": [
    "P.train(training_inputs,labels)"
   ]
  },
  {
   "cell_type": "code",
   "execution_count": null,
   "metadata": {},
   "outputs": [],
   "source": []
  }
 ],
 "metadata": {
  "kernelspec": {
   "display_name": "Python 3",
   "language": "python",
   "name": "python3"
  },
  "language_info": {
   "codemirror_mode": {
    "name": "ipython",
    "version": 3
   },
   "file_extension": ".py",
   "mimetype": "text/x-python",
   "name": "python",
   "nbconvert_exporter": "python",
   "pygments_lexer": "ipython3",
   "version": "3.6.5"
  }
 },
 "nbformat": 4,
 "nbformat_minor": 2
}
