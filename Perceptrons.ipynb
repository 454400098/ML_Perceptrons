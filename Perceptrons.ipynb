{
 "cells": [
  {
   "cell_type": "code",
   "execution_count": 697,
   "metadata": {},
   "outputs": [],
   "source": [
    "import numpy as np\n",
    "import random as rd\n",
    "import matplotlib.pyplot as plt\n",
    "from numpy import *"
   ]
  },
  {
   "cell_type": "code",
   "execution_count": 519,
   "metadata": {},
   "outputs": [],
   "source": [
    "class datasetgenerator:\n",
    "    def __init__(self,m,k,eps): \n",
    "        self.m = m\n",
    "        self.k = k\n",
    "        self.train_arr = []\n",
    "        self.labels = []\n",
    "        self.eps = eps\n",
    "        self.last = []\n",
    "        for _ in range (self.m):\n",
    "            vector = []\n",
    "            for _ in range(self.k-1):\n",
    "                vector.append(self.random())\n",
    "            vector.append(self.compute_xk())\n",
    "            self.train_arr.append(np.array(vector))\n",
    "            xk = vector[-1]\n",
    "            #####\n",
    "            self.last.append(xk)\n",
    "            #####\n",
    "            if xk>0:\n",
    "                self.labels.append(1)\n",
    "            else:\n",
    "                self.labels.append(-1)\n",
    "                \n",
    "        self.labels = np.asarray(self.labels)\n",
    "    \n",
    "    def random(self):\n",
    "        return np.random.normal(0,1)\n",
    "    def expdis(self):\n",
    "        return np.random.exponential(1)\n",
    "    def compute_xk(self):\n",
    "        D = self.expdis()\n",
    "        ans = 0.0\n",
    "        if rd.random()>0.5:\n",
    "            ans = D + self.eps\n",
    "        else:\n",
    "            ans = -(D+self.eps)\n",
    "        return ans"
   ]
  },
  {
   "cell_type": "code",
   "execution_count": 892,
   "metadata": {},
   "outputs": [],
   "source": [
    "class Perceptron:\n",
    "    def __init__(self,k,num_iter,learning_rate):\n",
    "        self.num_iter = num_iter\n",
    "        self.learning_rate = learning_rate\n",
    "        self.weights = np.zeros(k+1)\n",
    "        self.counts = 0 \n",
    "        \n",
    "    def predict(self,inputarr):\n",
    "        summation = np.dot(inputarr.T,self.weights[1:]) + self.weights[0]\n",
    "        if summation >= 0:\n",
    "            return 1\n",
    "        else:\n",
    "            return -1\n",
    "        \n",
    "    def suma(self,inputarr):\n",
    "        return np.dot(inputarr.T,self.weights[1:]) + self.weights[0]\n",
    "    \n",
    "    def check(self,arr_inputs,labels):\n",
    "        ans = True\n",
    "        for arr,tag in zip(arr_inputs,labels):\n",
    "            yesorno = self.predict(arr)\n",
    "            if yesorno != tag:\n",
    "                ans = False \n",
    "                break\n",
    "        return ans\n",
    "    \n",
    "    def train(self,arr_inputs,labels):\n",
    "        for _ in range(self.num_iter):\n",
    "            ##############\n",
    "            self.counts+=1\n",
    "            if self.check(arr_inputs,labels) == True:\n",
    "                print(self.counts)\n",
    "            ##############\n",
    "            for arr,tag in zip(arr_inputs,labels):\n",
    "                prediction = self.predict(arr)\n",
    "                if prediction != tag :\n",
    "                    self.weights[1:] += self.learning_rate *tag*arr\n",
    "                    self.weights[0] +=self.learning_rate * tag\n",
    "                    \n",
    "    def termi_train(self,arr_inputs,labels):\n",
    "        count = 0\n",
    "        for _ in range(self.num_iter):\n",
    "            ##############\n",
    "            self.counts+=1\n",
    "            if self.check(arr_inputs,labels) == True:\n",
    "#                 print(self.counts)\n",
    "                break;\n",
    "            ##############\n",
    "            count += 1\n",
    "            print(\"curretn count is \",count)\n",
    "            for arr,tag in zip(arr_inputs,labels):\n",
    "                prediction = self.predict(arr)\n",
    "                if prediction != tag :\n",
    "                    self.weights[1:] += self.learning_rate *tag*arr\n",
    "                    self.weights[0] +=self.learning_rate * tag"
   ]
  },
  {
   "cell_type": "code",
   "execution_count": 909,
   "metadata": {},
   "outputs": [],
   "source": [
    "d = datasetgenerator(100,20,1)   #first size of dataset,second: k, third: eps"
   ]
  },
  {
   "cell_type": "code",
   "execution_count": 910,
   "metadata": {},
   "outputs": [],
   "source": [
    "classifier = Perceptron(20,10,0.1)#first k, second: iter_num,third:learning rate"
   ]
  },
  {
   "cell_type": "code",
   "execution_count": 824,
   "metadata": {},
   "outputs": [
    {
     "name": "stdout",
     "output_type": "stream",
     "text": [
      "7\n"
     ]
    }
   ],
   "source": [
    "classifier.termi_train(d.train_arr,d.labels)"
   ]
  },
  {
   "cell_type": "code",
   "execution_count": 674,
   "metadata": {},
   "outputs": [
    {
     "name": "stdout",
     "output_type": "stream",
     "text": [
      "totoal misclassied 0\n"
     ]
    }
   ],
   "source": [
    "ans = True\n",
    "count = 0\n",
    "for arr,tag in zip(d.train_arr,d.labels):\n",
    "    yesorno = classifier.predict(arr)\n",
    "    if yesorno != tag:\n",
    "        count+=1\n",
    "print(\"totoal misclassied\",count)"
   ]
  },
  {
   "cell_type": "code",
   "execution_count": 675,
   "metadata": {},
   "outputs": [
    {
     "data": {
      "text/plain": [
       "[<matplotlib.lines.Line2D at 0x7f74de5bac50>]"
      ]
     },
     "execution_count": 675,
     "metadata": {},
     "output_type": "execute_result"
    },
    {
     "data": {
      "image/png": "[encoded data removed]",
      "text/plain": [
       "<Figure size 432x288 with 1 Axes>"
      ]
     },
     "metadata": {},
     "output_type": "display_data"
    }
   ],
   "source": [
    "plt.plot( d.last,'ro')"
   ]
  },
  {
   "cell_type": "code",
   "execution_count": 620,
   "metadata": {},
   "outputs": [
    {
     "data": {
      "text/plain": [
       "array([ 0.1       ,  0.05853444,  0.07404026, -0.07926902,  0.07157764,\n",
       "       -0.14665417,  0.02992721,  0.19054558,  0.19450439,  0.00108496,\n",
       "       -0.00313919,  0.14561911, -0.05221993, -0.10700358, -0.0267858 ,\n",
       "        0.02994472,  0.01853864,  0.02342696,  0.14753566, -0.09450543,\n",
       "        0.86469398])"
      ]
     },
     "execution_count": 620,
     "metadata": {},
     "output_type": "execute_result"
    }
   ],
   "source": [
    "classifier.weights"
   ]
  },
  {
   "cell_type": "code",
   "execution_count": 911,
   "metadata": {},
   "outputs": [],
   "source": [
    "points = []\n",
    "outputs = []\n",
    "color = []\n",
    "x = []\n",
    "for _ in range(1000000):\n",
    "    point =  np.random.uniform(low=-20, high=20, size=(20,))\n",
    "    x.append(point[-1])\n",
    "    points.append(point)\n",
    "    network_output = classifier.suma(point)\n",
    "    outputs.append(network_output)\n",
    "    if network_output > 0:\n",
    "        color.append(1)\n",
    "    else:\n",
    "        color.append(-1)\n",
    "# plt.scatter(*array(points).T, c=outputs, s=75)\n",
    "# plt.show()"
   ]
  },
  {
   "cell_type": "code",
   "execution_count": null,
   "metadata": {},
   "outputs": [],
   "source": [
    "plt.scatter(x,outputs,c = color,s=5)"
   ]
  },
  {
   "cell_type": "markdown",
   "metadata": {},
   "source": [
    "# question(3)"
   ]
  },
  {
   "cell_type": "code",
   "execution_count": 838,
   "metadata": {},
   "outputs": [],
   "source": [
    "avgiter = []\n",
    "x_axis = []\n",
    "loopnumber = 50\n",
    "eps = 1.0\n",
    "while eps > 0:\n",
    "    tmpiter = 0.0\n",
    "    for _ in range(loopnumber):\n",
    "        d = datasetgenerator(100,20,eps)   #first size of dataset,second: k, third: eps\n",
    "        classifier = Perceptron(20,100,1)#first k, second: iter_num,third:learning rate\n",
    "        classifier.termi_train(d.train_arr,d.labels)\n",
    "        tmpiter += classifier.counts\n",
    "    total = tmpiter / loopnumber\n",
    "    avgiter.append(total)\n",
    "    x_axis.append(eps)\n",
    "#     print(\"current eps is \",eps)\n",
    "    eps-=0.01\n",
    "    "
   ]
  },
  {
   "cell_type": "code",
   "execution_count": 839,
   "metadata": {},
   "outputs": [
    {
     "data": {
      "image/png": "[encoded data removed]",
      "text/plain": [
       "<Figure size 432x288 with 1 Axes>"
      ]
     },
     "metadata": {},
     "output_type": "display_data"
    }
   ],
   "source": [
    "import numpy as np\n",
    "import matplotlib.pyplot as plt\n",
    "\n",
    "# plt.plot(x_axis, err_pred_history)\n",
    "fig, ax1 = plt.subplots()\n",
    "\n",
    "ax1.plot(x_axis,avgiter,'g-')\n",
    "ax1.set_xlabel('value of eps')\n",
    "ax1.set_ylabel('avg itervation',color = 'g')\n",
    "plt.show()"
   ]
  },
  {
   "cell_type": "markdown",
   "metadata": {},
   "source": [
    "# question(4)"
   ]
  },
  {
   "cell_type": "markdown",
   "metadata": {},
   "source": [
    "# Fixing m = 100, k = 20"
   ]
  },
  {
   "cell_type": "code",
   "execution_count": 846,
   "metadata": {},
   "outputs": [],
   "source": [
    "avgiter = []\n",
    "x_axis = []\n",
    "loopnumber = 50\n",
    "k = 2\n",
    "for k in range(2,41):\n",
    "    tmpiter = 0.0\n",
    "    for _ in range(loopnumber):\n",
    "        d = datasetgenerator(100,k,1)   #first size of dataset,second: k, third: eps\n",
    "        classifier = Perceptron(k,100,1)#first k, second: iter_num,third:learning rate\n",
    "        classifier.termi_train(d.train_arr,d.labels)\n",
    "        tmpiter += classifier.counts\n",
    "    total = tmpiter / loopnumber\n",
    "    avgiter.append(total)\n",
    "    x_axis.append(k)\n",
    "#     print(\"current eps is \",eps)\n",
    "    "
   ]
  },
  {
   "cell_type": "code",
   "execution_count": 847,
   "metadata": {},
   "outputs": [
    {
     "data": {
      "image/png": "[encoded data removed]",
      "text/plain": [
       "<Figure size 432x288 with 1 Axes>"
      ]
     },
     "metadata": {},
     "output_type": "display_data"
    }
   ],
   "source": [
    "import numpy as np\n",
    "import matplotlib.pyplot as plt\n",
    "\n",
    "# plt.plot(x_axis, err_pred_history)\n",
    "fig, ax1 = plt.subplots()\n",
    "\n",
    "ax1.plot(x_axis,avgiter,'g-')\n",
    "ax1.set_xlabel('value of k')\n",
    "ax1.set_ylabel('avg itervation',color = 'g')\n",
    "plt.show()"
   ]
  },
  {
   "cell_type": "markdown",
   "metadata": {},
   "source": [
    "# Repeat for m = 1000"
   ]
  },
  {
   "cell_type": "code",
   "execution_count": 848,
   "metadata": {},
   "outputs": [],
   "source": [
    "avgiter = []\n",
    "x_axis = []\n",
    "loopnumber = 50\n",
    "k = 2\n",
    "for k in range(2,41):\n",
    "    tmpiter = 0.0\n",
    "    for _ in range(loopnumber):\n",
    "        d = datasetgenerator(1000,k,1)   #first size of dataset,second: k, third: eps\n",
    "        classifier = Perceptron(k,100,1)#first k, second: iter_num,third:learning rate\n",
    "        classifier.termi_train(d.train_arr,d.labels)\n",
    "        tmpiter += classifier.counts\n",
    "    total = tmpiter / loopnumber\n",
    "    avgiter.append(total)\n",
    "    x_axis.append(k)\n",
    "#     print(\"current eps is \",eps)"
   ]
  },
  {
   "cell_type": "code",
   "execution_count": 849,
   "metadata": {},
   "outputs": [
    {
     "data": {
      "image/png": "[encoded data removed]",
      "text/plain": [
       "<Figure size 432x288 with 1 Axes>"
      ]
     },
     "metadata": {},
     "output_type": "display_data"
    }
   ],
   "source": [
    "import numpy as np\n",
    "import matplotlib.pyplot as plt\n",
    "\n",
    "# plt.plot(x_axis, err_pred_history)\n",
    "fig, ax1 = plt.subplots()\n",
    "\n",
    "ax1.plot(x_axis,avgiter,'g-')\n",
    "ax1.set_xlabel('value of k')\n",
    "ax1.set_ylabel('avg itervation',color = 'g')\n",
    "plt.show()"
   ]
  },
  {
   "cell_type": "markdown",
   "metadata": {},
   "source": [
    "# Question(5)"
   ]
  },
  {
   "cell_type": "code",
   "execution_count": 870,
   "metadata": {},
   "outputs": [],
   "source": [
    "class  datacreator:\n",
    "    def __init__(self,m,k): \n",
    "        self.m = m\n",
    "        self.k = k\n",
    "        self.train_arr = []\n",
    "        self.labels = []\n",
    "        self.last = []\n",
    "        for _ in range (self.m):\n",
    "            vector = []\n",
    "            for _ in range(self.k):\n",
    "                vector.append(self.random())\n",
    "            \n",
    "            self.train_arr.append(np.array(vector))    \n",
    "            ans = self.compute_Y(vector)\n",
    "            if ans >= self.k:\n",
    "                self.labels.append(1)\n",
    "            else:\n",
    "                self.labels.append(-1)\n",
    "            \n",
    "        self.labels = np.asarray(self.labels)\n",
    "    \n",
    "    def random(self):\n",
    "        return np.random.normal(0,1)\n",
    "    def expdis(self):\n",
    "        return np.random.exponential(1)\n",
    "    def compute_Y(self,vector):\n",
    "        sum = 0.0\n",
    "        for x in vector:\n",
    "            sum+=x**2\n",
    "        return sum"
   ]
  },
  {
   "cell_type": "code",
   "execution_count": 903,
   "metadata": {},
   "outputs": [],
   "source": [
    "p = datacreator(100,2)"
   ]
  },
  {
   "cell_type": "code",
   "execution_count": 906,
   "metadata": {},
   "outputs": [],
   "source": [
    "classifier = Perceptron(2,100,1)"
   ]
  },
  {
   "cell_type": "code",
   "execution_count": 907,
   "metadata": {},
   "outputs": [
    {
     "name": "stdout",
     "output_type": "stream",
     "text": [
      "curretn count is  1\n",
      "curretn count is  2\n",
      "curretn count is  3\n",
      "curretn count is  4\n",
      "curretn count is  5\n",
      "curretn count is  6\n",
      "curretn count is  7\n",
      "curretn count is  8\n",
      "curretn count is  9\n",
      "curretn count is  10\n",
      "curretn count is  11\n",
      "curretn count is  12\n",
      "curretn count is  13\n",
      "curretn count is  14\n",
      "curretn count is  15\n",
      "curretn count is  16\n",
      "curretn count is  17\n",
      "curretn count is  18\n",
      "curretn count is  19\n",
      "curretn count is  20\n",
      "curretn count is  21\n",
      "curretn count is  22\n",
      "curretn count is  23\n",
      "curretn count is  24\n",
      "curretn count is  25\n",
      "curretn count is  26\n",
      "curretn count is  27\n",
      "curretn count is  28\n",
      "curretn count is  29\n",
      "curretn count is  30\n",
      "curretn count is  31\n",
      "curretn count is  32\n",
      "curretn count is  33\n",
      "curretn count is  34\n",
      "curretn count is  35\n",
      "curretn count is  36\n",
      "curretn count is  37\n",
      "curretn count is  38\n",
      "curretn count is  39\n",
      "curretn count is  40\n",
      "curretn count is  41\n",
      "curretn count is  42\n",
      "curretn count is  43\n",
      "curretn count is  44\n",
      "curretn count is  45\n",
      "curretn count is  46\n",
      "curretn count is  47\n",
      "curretn count is  48\n",
      "curretn count is  49\n",
      "curretn count is  50\n",
      "curretn count is  51\n",
      "curretn count is  52\n",
      "curretn count is  53\n",
      "curretn count is  54\n",
      "curretn count is  55\n",
      "curretn count is  56\n",
      "curretn count is  57\n",
      "curretn count is  58\n",
      "curretn count is  59\n",
      "curretn count is  60\n",
      "curretn count is  61\n",
      "curretn count is  62\n",
      "curretn count is  63\n",
      "curretn count is  64\n",
      "curretn count is  65\n",
      "curretn count is  66\n",
      "curretn count is  67\n",
      "curretn count is  68\n",
      "curretn count is  69\n",
      "curretn count is  70\n",
      "curretn count is  71\n",
      "curretn count is  72\n",
      "curretn count is  73\n",
      "curretn count is  74\n",
      "curretn count is  75\n",
      "curretn count is  76\n",
      "curretn count is  77\n",
      "curretn count is  78\n",
      "curretn count is  79\n",
      "curretn count is  80\n",
      "curretn count is  81\n",
      "curretn count is  82\n",
      "curretn count is  83\n",
      "curretn count is  84\n",
      "curretn count is  85\n",
      "curretn count is  86\n",
      "curretn count is  87\n",
      "curretn count is  88\n",
      "curretn count is  89\n",
      "curretn count is  90\n",
      "curretn count is  91\n",
      "curretn count is  92\n",
      "curretn count is  93\n",
      "curretn count is  94\n",
      "curretn count is  95\n",
      "curretn count is  96\n",
      "curretn count is  97\n",
      "curretn count is  98\n",
      "curretn count is  99\n",
      "curretn count is  100\n"
     ]
    }
   ],
   "source": [
    "classifier.termi_train(p.train_arr,p.labels)"
   ]
  },
  {
   "cell_type": "code",
   "execution_count": null,
   "metadata": {},
   "outputs": [],
   "source": []
  }
 ],
 "metadata": {
  "kernelspec": {
   "display_name": "Python 3",
   "language": "python",
   "name": "python3"
  },
  "language_info": {
   "codemirror_mode": {
    "name": "ipython",
    "version": 3
   },
   "file_extension": ".py",
   "mimetype": "text/x-python",
   "name": "python",
   "nbconvert_exporter": "python",
   "pygments_lexer": "ipython3",
   "version": "3.6.5"
  }
 },
 "nbformat": 4,
 "nbformat_minor": 2
}
