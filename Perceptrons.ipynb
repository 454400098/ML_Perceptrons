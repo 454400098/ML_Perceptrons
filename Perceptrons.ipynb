{
 "cells": [
  {
   "cell_type": "code",
   "execution_count": 4,
   "metadata": {},
   "outputs": [],
   "source": [
    "import numpy as np\n",
    "import random as rd"
   ]
  },
  {
   "cell_type": "code",
   "execution_count": 519,
   "metadata": {},
   "outputs": [],
   "source": [
    "class datasetgenerator:\n",
    "    def __init__(self,m,k,eps): \n",
    "        self.m = m\n",
    "        self.k = k\n",
    "        self.train_arr = []\n",
    "        self.labels = []\n",
    "        self.eps = eps\n",
    "        self.last = []\n",
    "        for _ in range (self.m):\n",
    "            vector = []\n",
    "            for _ in range(self.k-1):\n",
    "                vector.append(self.random())\n",
    "            vector.append(self.compute_xk())\n",
    "            self.train_arr.append(np.array(vector))\n",
    "            xk = vector[-1]\n",
    "            #####\n",
    "            self.last.append(xk)\n",
    "            #####\n",
    "            if xk>0:\n",
    "                self.labels.append(1)\n",
    "            else:\n",
    "                self.labels.append(-1)\n",
    "                \n",
    "        self.labels = np.asarray(self.labels)\n",
    "    \n",
    "    def random(self):\n",
    "        return np.random.normal(0,1)\n",
    "    def expdis(self):\n",
    "        return np.random.exponential(1)\n",
    "    def compute_xk(self):\n",
    "        D = self.expdis()\n",
    "        ans = 0.0\n",
    "        if rd.random()>0.5:\n",
    "            ans = D + self.eps\n",
    "        else:\n",
    "            ans = -(D+self.eps)\n",
    "        return ans"
   ]
  },
  {
   "cell_type": "code",
   "execution_count": 570,
   "metadata": {},
   "outputs": [],
   "source": [
    "class Perceptron:\n",
    "    def __init__(self,k,num_iter,learning_rate):\n",
    "        self.num_iter = num_iter\n",
    "        self.learning_rate = learning_rate\n",
    "        self.weights = np.zeros(k+1)\n",
    "        self.counts = 0 \n",
    "        \n",
    "    def predict(self,inputarr):\n",
    "        summation = np.dot(inputarr.T,self.weights[1:]) + self.weights[0]\n",
    "        if summation >= 0:\n",
    "            return 1\n",
    "        else:\n",
    "            return -1\n",
    "        \n",
    "    def check(self,arr_inputs,labels):\n",
    "        ans = True\n",
    "        for arr,tag in zip(arr_inputs,labels):\n",
    "            yesorno = self.predict(arr)\n",
    "            if yesorno != tag:\n",
    "                ans = False \n",
    "                break\n",
    "        return ans\n",
    "    \n",
    "    def train(self,arr_inputs,labels):\n",
    "        for _ in range(self.num_iter):\n",
    "            ##############\n",
    "            self.counts+=1\n",
    "            if self.check(arr_inputs,labels) == True:\n",
    "                print(self.counts)\n",
    "            ##############\n",
    "            for arr,tag in zip(arr_inputs,labels):\n",
    "                prediction = self.predict(arr)\n",
    "                if prediction != tag :\n",
    "                    self.weights[1:] += self.learning_rate *tag*arr\n",
    "                    self.weights[0] +=self.learning_rate * tag"
   ]
  },
  {
   "cell_type": "code",
   "execution_count": 571,
   "metadata": {},
   "outputs": [],
   "source": [
    "d = datasetgenerator(100,20,1)   #first size of dataset,second: k, third: eps"
   ]
  },
  {
   "cell_type": "code",
   "execution_count": 572,
   "metadata": {},
   "outputs": [],
   "source": [
    "classifier = Perceptron(20,10,0.01)#first k, second: iter_num,third:learning rate"
   ]
  },
  {
   "cell_type": "code",
   "execution_count": 573,
   "metadata": {},
   "outputs": [
    {
     "name": "stdout",
     "output_type": "stream",
     "text": [
      "4\n",
      "5\n",
      "6\n",
      "7\n",
      "8\n",
      "9\n",
      "10\n"
     ]
    }
   ],
   "source": [
    "classifier.train(d.train_arr,d.labels)"
   ]
  },
  {
   "cell_type": "code",
   "execution_count": 575,
   "metadata": {},
   "outputs": [
    {
     "name": "stdout",
     "output_type": "stream",
     "text": [
      "totoal misclassied 0\n"
     ]
    }
   ],
   "source": [
    "ans = True\n",
    "count = 0\n",
    "for arr,tag in zip(d.train_arr,d.labels):\n",
    "    yesorno = classifier.predict(arr)\n",
    "    if yesorno != tag:\n",
    "        count+=1\n",
    "print(\"totoal misclassied\",count)"
   ]
  },
  {
   "cell_type": "code",
   "execution_count": 576,
   "metadata": {},
   "outputs": [
    {
     "data": {
      "text/plain": [
       "[<matplotlib.lines.Line2D at 0x7f74de6aaa20>]"
      ]
     },
     "execution_count": 576,
     "metadata": {},
     "output_type": "execute_result"
    },
    {
     "data": {
      "image/png": "[encoded data removed]",
      "text/plain": [
       "<Figure size 432x288 with 1 Axes>"
      ]
     },
     "metadata": {},
     "output_type": "display_data"
    }
   ],
   "source": [
    "import numpy as np\n",
    "import matplotlib.pyplot as plt\n",
    "\n",
    "plt.plot( d.last,'ro')\n",
    "\n"
   ]
  },
  {
   "cell_type": "code",
   "execution_count": 569,
   "metadata": {},
   "outputs": [
    {
     "data": {
      "text/plain": [
       "array([ 1, -1,  1,  1,  1])"
      ]
     },
     "execution_count": 569,
     "metadata": {},
     "output_type": "execute_result"
    }
   ],
   "source": [
    "d.labels"
   ]
  },
  {
   "cell_type": "code",
   "execution_count": null,
   "metadata": {},
   "outputs": [],
   "source": []
  }
 ],
 "metadata": {
  "kernelspec": {
   "display_name": "Python 3",
   "language": "python",
   "name": "python3"
  },
  "language_info": {
   "codemirror_mode": {
    "name": "ipython",
    "version": 3
   },
   "file_extension": ".py",
   "mimetype": "text/x-python",
   "name": "python",
   "nbconvert_exporter": "python",
   "pygments_lexer": "ipython3",
   "version": "3.6.5"
  }
 },
 "nbformat": 4,
 "nbformat_minor": 2
}
